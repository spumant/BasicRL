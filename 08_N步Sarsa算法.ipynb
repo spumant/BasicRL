{
 "cells": [
  {
   "cell_type": "code",
   "execution_count": 1,
   "metadata": {},
   "outputs": [
    {
     "data": {
      "text/plain": [
       "'ground'"
      ]
     },
     "execution_count": 1,
     "metadata": {},
     "output_type": "execute_result"
    }
   ],
   "source": [
    "# 获取一个格子的状态\n",
    "def get_state(row, col):\n",
    "    if row != 3:\n",
    "        return 'ground'\n",
    "\n",
    "    if col == 0:\n",
    "        return 'ground'\n",
    "\n",
    "    return 'terminal' if col == 11 else 'trap'\n",
    "\n",
    "\n",
    "get_state(0, 0)"
   ]
  },
  {
   "cell_type": "code",
   "execution_count": 2,
   "metadata": {},
   "outputs": [
    {
     "data": {
      "text/plain": [
       "(0, 1, -1)"
      ]
     },
     "execution_count": 2,
     "metadata": {},
     "output_type": "execute_result"
    }
   ],
   "source": [
    "# 在一个格子里做一个动作\n",
    "def move(row, col, action):\n",
    "    # 如果当前已经在陷阱或者终点，则不能执行任何动作\n",
    "    if get_state(row, col) in [\"trap\", \"terminal\"]:\n",
    "        return row, col, 0\n",
    "\n",
    "    # ↑\n",
    "    if action == 0:\n",
    "        row -= 1\n",
    "\n",
    "    # ↓\n",
    "    if action == 1:\n",
    "        row += 1\n",
    "\n",
    "    # ←\n",
    "    if action == 2:\n",
    "        col -= 1\n",
    "\n",
    "    # →\n",
    "    if action == 3:\n",
    "        col += 1\n",
    "\n",
    "    # 不允许走到地图外面去\n",
    "    row = max(0, row)\n",
    "    row = min(3, row)\n",
    "    col = max(0, col)\n",
    "    col = min(11, col)\n",
    "\n",
    "    # 是陷阱的话，奖励是-100，否则都是-1\n",
    "    reward = -100 if get_state(row, col) == \"trap\" else -1\n",
    "    return row, col, reward\n",
    "\n",
    "\n",
    "move(0, 0, 3)"
   ]
  },
  {
   "cell_type": "code",
   "execution_count": 6,
   "metadata": {},
   "outputs": [
    {
     "data": {
      "text/plain": [
       "(4, 12, 4)"
      ]
     },
     "execution_count": 6,
     "metadata": {},
     "output_type": "execute_result"
    }
   ],
   "source": [
    "import numpy as np\n",
    "\n",
    "# 初始化在每一个格子里采取每个动作的分数，初始化都是0，因为没有任何知识\n",
    "Q = np.zeros([4, 12, 4])\n",
    "\n",
    "# 初始化三个list，用来存储状态，动作，反馈的历史数据，因为后面要回溯这些数据\n",
    "state_list = []\n",
    "action_list = []\n",
    "reward_list = []\n",
    "\n",
    "Q.shape"
   ]
  },
  {
   "cell_type": "code",
   "execution_count": 10,
   "metadata": {},
   "outputs": [
    {
     "data": {
      "text/plain": [
       "2"
      ]
     },
     "execution_count": 10,
     "metadata": {},
     "output_type": "execute_result"
    }
   ],
   "source": [
    "import random\n",
    "\n",
    "\n",
    "# 根据状态选择一个动作\n",
    "def get_action(row, col):\n",
    "    # 有小概率选择随机动作\n",
    "    if random.random() < 0.1:\n",
    "        return random.choice(range(4))\n",
    "    # 否则选择分数最高的动作\n",
    "    return Q[row, col].argmax()\n",
    "\n",
    "\n",
    "get_action(0, 0)"
   ]
  },
  {
   "cell_type": "code",
   "execution_count": 11,
   "metadata": {},
   "outputs": [],
   "source": [
    "# 获取5个时间步分别的分数\n",
    "def get_update_list(next_row, next_col, next_action):\n",
    "    # 初始化的target是最后一个state和最后一个action的分数\n",
    "    target = Q[next_row, next_col, next_action]\n",
    "\n",
    "    # 计算每一步的target\n",
    "    # 每一步的target等于下一步的target*0.9，再加上本步的reward\n",
    "    # 时间从后往前回溯，越是以前的target会累加的信息越多\n",
    "    # [4,3,2,1,0]\n",
    "    target_list = []\n",
    "    for i in reversed(range(5)):\n",
    "        target = 0.9 * target + reward_list[i]\n",
    "        target_list.append(target)\n",
    "\n",
    "    # 把时间顺序正过来\n",
    "    target_list = list(reversed(target_list))\n",
    "\n",
    "    # 计算每一步的value\n",
    "    value_list = []\n",
    "    for i in range(5):\n",
    "        row, col = state_list[i]\n",
    "        action = action_list[i]\n",
    "        value_list.append(Q[row, col, action])\n",
    "\n",
    "    # 计算每一步的更新量\n",
    "    update_list = []\n",
    "    for i in range(5):\n",
    "        # 根据时序差分算法，当前state，action的分数 = 下一个state，action的分数*gamma + reward\n",
    "        # 此处是求两者的差，越接近0越好\n",
    "        update = target_list[i] - value_list[i]\n",
    "\n",
    "        # 这个0.1相当于lr\n",
    "        update *= 0.1\n",
    "        update_list.append(update)\n",
    "\n",
    "    return update_list"
   ]
  },
  {
   "cell_type": "code",
   "execution_count": 14,
   "metadata": {},
   "outputs": [],
   "source": [
    "# 训练\n",
    "def train():\n",
    "    for epoch in range(500):\n",
    "        # 初始化当前位置\n",
    "        row = random.choice(range(4))\n",
    "        col = 0\n",
    "\n",
    "        # 初始化第一个动作\n",
    "        action = get_action(row, col)\n",
    "\n",
    "        # 计算反馈的和，这个数字应该越来越小\n",
    "        reward_sum = 0\n",
    "\n",
    "        # 初始化3个列表\n",
    "        state_list.clear()\n",
    "        action_list.clear()\n",
    "        reward_list.clear()\n",
    "\n",
    "        # 循环直到到达终点或掉进陷阱\n",
    "        while get_state(row, col) not in ['terminal', 'trap']:\n",
    "            # 执行动作\n",
    "            next_row, next_col, reward = move(row, col, action)\n",
    "            reward_sum += reward\n",
    "\n",
    "            # 求新位置的动作\n",
    "            next_action = get_action(next_row, next_col)\n",
    "\n",
    "            # 记录历史数据\n",
    "            state_list.append([row, col])\n",
    "            action_list.append(action)\n",
    "            reward_list.append(reward)\n",
    "\n",
    "            # 积累到5步以后再开始\n",
    "            if len(state_list) == 5:\n",
    "                update_list = get_update_list(next_row, next_col, next_action)\n",
    "\n",
    "                # 只更新第一步的分数\n",
    "                row, col = state_list[0]\n",
    "                action = action_list[0]\n",
    "                update = update_list[0]\n",
    "\n",
    "                Q[row, col, action] += update\n",
    "\n",
    "                # 移除第一步，这样在下一次循环时保持列表是5个元素\n",
    "                state_list.pop(0)\n",
    "                action_list.pop(0)\n",
    "                reward_list.pop(0)\n",
    "\n",
    "            # 更新当前位置\n",
    "            row = next_row\n",
    "            col = next_col\n",
    "            action = next_action\n",
    "\n",
    "        # 走到终点以后，更新剩下步数的update\n",
    "        for i in range(len(state_list)):\n",
    "            row, col = state_list[i]\n",
    "            action = action_list[i]\n",
    "            update = update_list[i]\n",
    "            Q[row, col, action] += update\n",
    "\n",
    "        if epoch % 100 == 0:\n",
    "            print(epoch, reward_sum)"
   ]
  },
  {
   "cell_type": "code",
   "execution_count": 15,
   "metadata": {},
   "outputs": [
    {
     "name": "stdout",
     "output_type": "stream",
     "text": [
      "0 -242\n",
      "100 -19\n",
      "200 -206\n",
      "300 -16\n",
      "400 -21\n"
     ]
    }
   ],
   "source": [
    "train()"
   ]
  },
  {
   "cell_type": "code",
   "execution_count": 16,
   "metadata": {},
   "outputs": [
    {
     "name": "stdout",
     "output_type": "stream",
     "text": [
      "□□□□□□□□□□□□\n",
      "□↑□□□□□□□□□□\n",
      "□□□□□□□□□□□□\n",
      "□○○○○○○○○○○❤\n"
     ]
    }
   ],
   "source": [
    "# 打印游戏，方便测试\n",
    "def show(row, col, action):\n",
    "    graph = [\n",
    "        '□',\n",
    "        '□',\n",
    "        '□',\n",
    "        '□',\n",
    "        '□',\n",
    "        '□',\n",
    "        '□',\n",
    "        '□',\n",
    "        '□',\n",
    "        '□',\n",
    "        '□',\n",
    "        '□',\n",
    "        '□',\n",
    "        '□',\n",
    "        '□',\n",
    "        '□',\n",
    "        '□',\n",
    "        '□',\n",
    "        '□',\n",
    "        '□',\n",
    "        '□',\n",
    "        '□',\n",
    "        '□',\n",
    "        '□',\n",
    "        '□',\n",
    "        '□',\n",
    "        '□',\n",
    "        '□',\n",
    "        '□',\n",
    "        '□',\n",
    "        '□',\n",
    "        '□',\n",
    "        '□',\n",
    "        '□',\n",
    "        '□',\n",
    "        '□',\n",
    "        '□',\n",
    "        '○',\n",
    "        '○',\n",
    "        '○',\n",
    "        '○',\n",
    "        '○',\n",
    "        '○',\n",
    "        '○',\n",
    "        '○',\n",
    "        '○',\n",
    "        '○',\n",
    "        '❤',\n",
    "    ]\n",
    "\n",
    "    action = {0: '↑', 1: '↓', 2: '←', 3: '→'}[action]\n",
    "\n",
    "    graph[row * 12 + col] = action\n",
    "\n",
    "    graph = ''.join(graph)\n",
    "\n",
    "    for i in range(0, 4 * 12, 12):\n",
    "        print(graph[i : i + 12])\n",
    "\n",
    "\n",
    "show(1, 1, 0)"
   ]
  },
  {
   "cell_type": "code",
   "execution_count": 17,
   "metadata": {},
   "outputs": [
    {
     "name": "stdout",
     "output_type": "stream",
     "text": [
      "□□□□□□□□□□□□\n",
      "□□□□□□□□□□□□\n",
      "□□□□□□□□□□□↓\n",
      "□○○○○○○○○○○❤\n"
     ]
    }
   ],
   "source": [
    "from IPython import display\n",
    "import time\n",
    "\n",
    "\n",
    "def test():\n",
    "    # 起点\n",
    "    row = random.choice(range(4))\n",
    "    col = 0\n",
    "\n",
    "    # 最多玩N步\n",
    "    for _ in range(200):\n",
    "        # 获取当前状态，如果状态是终点或者掉陷阱则终止\n",
    "        if get_state(row, col) in ['trap', 'terminal']:\n",
    "            break\n",
    "\n",
    "        # 选择最优动作\n",
    "        action = Q[row, col].argmax()\n",
    "\n",
    "        # 打印这个动作\n",
    "        display.clear_output(wait=True)\n",
    "        time.sleep(0.1)\n",
    "        show(row, col, action)\n",
    "\n",
    "        # 执行动作\n",
    "        row, col, reward = move(row, col, action)\n",
    "\n",
    "\n",
    "test()"
   ]
  },
  {
   "cell_type": "code",
   "execution_count": 18,
   "metadata": {},
   "outputs": [
    {
     "name": "stdout",
     "output_type": "stream",
     "text": [
      "→→→→→→→→→→↓↓\n",
      "↑→↑↑↑↑→↑→↑→↓\n",
      "↑↑↑↑↑↑↑→→←→↓\n",
      "↑↑↑↑↑↑↑↑↑↑↑↑\n"
     ]
    }
   ],
   "source": [
    "# 打印所有格子的动作倾向\n",
    "for row in range(4):\n",
    "    line = ''\n",
    "    for col in range(12):\n",
    "        action = Q[row, col].argmax()\n",
    "        action = {0: '↑', 1: '↓', 2: '←', 3: '→'}[action]\n",
    "        line += action\n",
    "    print(line)"
   ]
  },
  {
   "cell_type": "code",
   "execution_count": null,
   "metadata": {},
   "outputs": [],
   "source": []
  }
 ],
 "metadata": {
  "kernelspec": {
   "display_name": "fproject",
   "language": "python",
   "name": "python3"
  },
  "language_info": {
   "codemirror_mode": {
    "name": "ipython",
    "version": 3
   },
   "file_extension": ".py",
   "mimetype": "text/x-python",
   "name": "python",
   "nbconvert_exporter": "python",
   "pygments_lexer": "ipython3",
   "version": "3.9.16"
  },
  "orig_nbformat": 4
 },
 "nbformat": 4,
 "nbformat_minor": 2
}
