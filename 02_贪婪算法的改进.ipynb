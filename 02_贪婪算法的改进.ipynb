{
 "cells": [
  {
   "cell_type": "code",
   "execution_count": 1,
   "metadata": {},
   "outputs": [],
   "source": [
    "import random\n",
    "import numpy as np"
   ]
  },
  {
   "cell_type": "code",
   "execution_count": 16,
   "metadata": {},
   "outputs": [
    {
     "data": {
      "text/plain": [
       "(array([0.83504158, 0.80112914, 0.34951631, 0.97895463, 0.17571434,\n",
       "        0.6492362 , 0.0588519 , 0.12026324, 0.01447005, 0.73551329]),\n",
       " [[1], [1], [1], [1], [1], [1], [1], [1], [1], [1]])"
      ]
     },
     "execution_count": 16,
     "metadata": {},
     "output_type": "execute_result"
    }
   ],
   "source": [
    "# 每个老虎的中奖概率，0-1之间的均匀分布\n",
    "probs = np.random.uniform(size=10)\n",
    "\n",
    "# 记录每个老虎机的返回值\n",
    "rewards = [[1] for _ in range(10)]\n",
    "\n",
    "probs, rewards"
   ]
  },
  {
   "cell_type": "code",
   "execution_count": 3,
   "metadata": {},
   "outputs": [
    {
     "data": {
      "text/plain": [
       "0"
      ]
     },
     "execution_count": 3,
     "metadata": {},
     "output_type": "execute_result"
    }
   ],
   "source": [
    "# 随机选择的概率递减的贪婪算法\n",
    "def choose_one_1():\n",
    "    # 求出现在已经玩了多少次\n",
    "    played_count = sum([len(i) for i in rewards])\n",
    "\n",
    "    # 小概率随机选择一根拉杆\n",
    "    if random.random() < 1 / played_count:\n",
    "        return random.randint(0, 9)\n",
    "\n",
    "    # 计算每个老虎机的平均奖励\n",
    "    rewards_mean = [np.mean(i) for i in rewards]\n",
    "\n",
    "    return np.argmax(rewards_mean)\n",
    "\n",
    "\n",
    "choose_one_1()"
   ]
  },
  {
   "cell_type": "code",
   "execution_count": 18,
   "metadata": {},
   "outputs": [
    {
     "data": {
      "text/plain": [
       "[[1], [1], [1, 1], [1], [1], [1], [1], [1], [1], [1]]"
      ]
     },
     "execution_count": 18,
     "metadata": {},
     "output_type": "execute_result"
    }
   ],
   "source": [
    "def try_and_play():\n",
    "    i = choose_one_3()\n",
    "\n",
    "    # 玩老虎机，得到结果\n",
    "    reward = 0\n",
    "    if random.random() < probs[i]:\n",
    "        reward = 1\n",
    "\n",
    "    # 记录玩的结果\n",
    "    rewards[i].append(reward)\n",
    "\n",
    "\n",
    "try_and_play()\n",
    "\n",
    "rewards"
   ]
  },
  {
   "cell_type": "code",
   "execution_count": 19,
   "metadata": {},
   "outputs": [
    {
     "data": {
      "text/plain": [
       "(4894.773164922458, 4872)"
      ]
     },
     "execution_count": 19,
     "metadata": {},
     "output_type": "execute_result"
    }
   ],
   "source": [
    "def get_result():\n",
    "    for _ in range(5000):\n",
    "        try_and_play()\n",
    "\n",
    "    # 期望的最好结果\n",
    "    target = probs.max() * 5000\n",
    "\n",
    "    # 实际玩出的结果\n",
    "    result = sum([sum(i) for i in rewards])\n",
    "\n",
    "    return target, result\n",
    "\n",
    "\n",
    "get_result()"
   ]
  },
  {
   "cell_type": "code",
   "execution_count": 12,
   "metadata": {},
   "outputs": [],
   "source": [
    "# ucb算法：多探索玩的少的机器\n",
    "# 随机选择的概率递减的贪婪算法\n",
    "\n",
    "\n",
    "def choose_one_2():\n",
    "    played_count = [len(i) for i in rewards]\n",
    "    played_count = np.array(played_count)\n",
    "\n",
    "    # 求出置信上界\n",
    "    # 分子是总共玩了多少次，取根号后让他的增长速度变慢\n",
    "    # 分母是每台老虎机玩的次数，乘以2让他的增长速度变快\n",
    "    # 随着玩的次数增加，分母会很快超过分子的增长速度，倒是分数越来越小\n",
    "    # 具体到每一台老虎机，则是玩的次数越多，分数就越小，也就是ucb的加权越小\n",
    "    # 所以ucb衡量了每一台老虎机的不确定性，不确定性越大，探索的价值就越大\n",
    "    fenzi = played_count.sum() ** 0.5\n",
    "    fenmu = played_count * 2\n",
    "    ucb = fenzi / fenmu\n",
    "\n",
    "    # ucb本身取根号\n",
    "    # 大于1的数会被缩小，小于1的数会被放大，这样保持ucb恒定在一定的数值范围内\n",
    "    ucb = ucb**0.5\n",
    "\n",
    "    # 计算每个老虎机的奖励平均\n",
    "    rewards_mean = [np.mean(i) for i in rewards]\n",
    "    rewards_mean = np.array(rewards_mean)\n",
    "\n",
    "    # ucb和期望求和\n",
    "    ucb += rewards_mean\n",
    "\n",
    "    return ucb.argmax()"
   ]
  },
  {
   "cell_type": "code",
   "execution_count": 15,
   "metadata": {},
   "outputs": [
    {
     "name": "stdout",
     "output_type": "stream",
     "text": [
      "当数字小的时候，beta分布的概率有很大的随机性\n",
      "0.04184626052672714\n",
      "0.24759334763518906\n",
      "0.41085833685252665\n",
      "0.9883149392207878\n",
      "0.038118174565751874\n",
      "当数字大的时候，beta分布逐渐稳定\n",
      "0.5005013278621445\n",
      "0.5008268229563304\n",
      "0.5004407782349973\n",
      "0.49767518630978136\n",
      "0.5008352313003872\n"
     ]
    }
   ],
   "source": [
    "# beta分布测试\n",
    "print('当数字小的时候，beta分布的概率有很大的随机性')\n",
    "for _ in range(5):\n",
    "    print(np.random.beta(1, 1))\n",
    "\n",
    "print('当数字大的时候，beta分布逐渐稳定')\n",
    "for _ in range(5):\n",
    "    print(np.random.beta(1e5, 1e5))"
   ]
  },
  {
   "cell_type": "code",
   "execution_count": 17,
   "metadata": {},
   "outputs": [
    {
     "data": {
      "text/plain": [
       "7"
      ]
     },
     "execution_count": 17,
     "metadata": {},
     "output_type": "execute_result"
    }
   ],
   "source": [
    "# 汤普森采样法\n",
    "\n",
    "\n",
    "def choose_one_3():\n",
    "    # 求出每个老虎机出1的次数+1\n",
    "    count_1 = [sum(i) + 1 for i in rewards]\n",
    "\n",
    "    # 求出每个老虎机出0的次数+1\n",
    "    count_0 = [sum(1 - np.array(i)) + 1 for i in rewards]\n",
    "\n",
    "    # 按照beta分布计算奖励分布，这可以认为是每一台老虎机中奖的概率\n",
    "    beta = np.random.beta(count_1, count_0)\n",
    "\n",
    "    return beta.argmax()\n",
    "\n",
    "\n",
    "choose_one_3()"
   ]
  },
  {
   "cell_type": "code",
   "execution_count": null,
   "metadata": {},
   "outputs": [],
   "source": []
  }
 ],
 "metadata": {
  "kernelspec": {
   "display_name": "fproject",
   "language": "python",
   "name": "python3"
  },
  "language_info": {
   "codemirror_mode": {
    "name": "ipython",
    "version": 3
   },
   "file_extension": ".py",
   "mimetype": "text/x-python",
   "name": "python",
   "nbconvert_exporter": "python",
   "pygments_lexer": "ipython3",
   "version": "3.9.16"
  },
  "orig_nbformat": 4
 },
 "nbformat": 4,
 "nbformat_minor": 2
}
