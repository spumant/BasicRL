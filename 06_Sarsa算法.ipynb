{
 "cells": [
  {
   "cell_type": "code",
   "execution_count": 1,
   "metadata": {},
   "outputs": [
    {
     "data": {
      "text/plain": [
       "'ground'"
      ]
     },
     "execution_count": 1,
     "metadata": {},
     "output_type": "execute_result"
    }
   ],
   "source": [
    "#获取一个格子的状态\n",
    "def get_state(row, col):\n",
    "    if row != 3:\n",
    "        return 'ground'\n",
    "\n",
    "    if col == 0:\n",
    "        return 'ground'\n",
    "\n",
    "    return 'terminal' if col == 11 else 'trap'\n",
    "\n",
    "\n",
    "get_state(0, 0)"
   ]
  },
  {
   "cell_type": "code",
   "execution_count": 2,
   "metadata": {},
   "outputs": [
    {
     "data": {
      "text/plain": [
       "(0, 1, -1)"
      ]
     },
     "execution_count": 2,
     "metadata": {},
     "output_type": "execute_result"
    }
   ],
   "source": [
    "# 在一个格子里做一个动作\n",
    "def move(row, col, action):\n",
    "    # 如果当前已经在陷阱或者终点，则不能执行任何动作\n",
    "    if get_state(row, col) in [\"trap\", \"terminal\"]:\n",
    "        return row, col, 0\n",
    "\n",
    "    # ↑\n",
    "    if action == 0:\n",
    "        row -= 1\n",
    "\n",
    "    # ↓\n",
    "    if action == 1:\n",
    "        row += 1\n",
    "\n",
    "    # ←\n",
    "    if action == 2:\n",
    "        col -= 1\n",
    "\n",
    "    # →\n",
    "    if action == 3:\n",
    "        col += 1\n",
    "\n",
    "    # 不允许走到地图外面去\n",
    "    row = max(0, row)\n",
    "    row = min(3, row)\n",
    "    col = max(0, col)\n",
    "    col = min(11, col)\n",
    "\n",
    "    # 是陷阱的话，奖励是-100，否则都是-1\n",
    "    reward = -100 if get_state(row, col) == \"trap\" else -1\n",
    "    return row, col, reward\n",
    "\n",
    "\n",
    "move(0, 0, 3)"
   ]
  },
  {
   "cell_type": "code",
   "execution_count": 3,
   "metadata": {},
   "outputs": [
    {
     "data": {
      "text/plain": [
       "(4, 12, 4)"
      ]
     },
     "execution_count": 3,
     "metadata": {},
     "output_type": "execute_result"
    }
   ],
   "source": [
    "import numpy as np\n",
    "\n",
    "# 初始化在每一个格子里采取每个动作的分数，初始化都是0，因为没有任何知识\n",
    "Q = np.zeros([4, 12, 4])\n",
    "\n",
    "Q.shape"
   ]
  },
  {
   "cell_type": "code",
   "execution_count": 4,
   "metadata": {},
   "outputs": [
    {
     "data": {
      "text/plain": [
       "0"
      ]
     },
     "execution_count": 4,
     "metadata": {},
     "output_type": "execute_result"
    }
   ],
   "source": [
    "import random\n",
    "\n",
    "\n",
    "# 根据状态选择一个动作\n",
    "def get_action(row, col):\n",
    "    # 有小概率选择随机动作\n",
    "    if random.random() < 0.1:\n",
    "        return random.choice(range(4))\n",
    "    # 否则选择分数最高的动作\n",
    "    return Q[row, col].argmax()\n",
    "\n",
    "\n",
    "get_action(0, 0)"
   ]
  },
  {
   "cell_type": "code",
   "execution_count": null,
   "metadata": {},
   "outputs": [],
   "source": []
  }
 ],
 "metadata": {
  "kernelspec": {
   "display_name": "fproject",
   "language": "python",
   "name": "python3"
  },
  "language_info": {
   "codemirror_mode": {
    "name": "ipython",
    "version": 3
   },
   "file_extension": ".py",
   "mimetype": "text/x-python",
   "name": "python",
   "nbconvert_exporter": "python",
   "pygments_lexer": "ipython3",
   "version": "3.9.16"
  },
  "orig_nbformat": 4
 },
 "nbformat": 4,
 "nbformat_minor": 2
}
